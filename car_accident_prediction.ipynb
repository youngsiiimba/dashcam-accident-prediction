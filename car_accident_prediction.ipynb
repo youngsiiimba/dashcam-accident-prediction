{
  "cells": [
    {
      "cell_type": "markdown",
      "metadata": {
        "id": "D26-YtYyCwT-"
      },
      "source": [
        "# Car accident prediction"
      ]
    },
    {
      "cell_type": "markdown",
      "metadata": {
        "id": "rdZaQExqCzcX"
      },
      "source": [
        "## Data Import"
      ]
    },
    {
      "cell_type": "code",
      "execution_count": 1,
      "metadata": {
        "id": "2_o1HxZcCrsj"
      },
      "outputs": [],
      "source": [
        "import os\n",
        "import pandas as pd"
      ]
    },
    {
      "cell_type": "code",
      "source": [
        "###access google drive folder\n",
        "from google.colab import drive\n",
        "drive.mount('/content/drive')"
      ],
      "metadata": {
        "colab": {
          "base_uri": "https://localhost:8080/"
        },
        "id": "s9Zz8effT2g2",
        "outputId": "7c6763a3-104d-405f-f7e4-6f08b0397767"
      },
      "execution_count": 2,
      "outputs": [
        {
          "output_type": "stream",
          "name": "stdout",
          "text": [
            "Mounted at /content/drive\n"
          ]
        }
      ]
    },
    {
      "cell_type": "code",
      "source": [
        "!unzip /content/drive/MyDrive/Dachcam_dataset.zip -u -q"
      ],
      "metadata": {
        "id": "tdo3hslIUQmQ"
      },
      "execution_count": null,
      "outputs": []
    },
    {
      "cell_type": "code",
      "source": [
        "train_dir = \"/content/videos/training\"\n",
        "test_dir = \"/content/videos/testing\""
      ],
      "metadata": {
        "id": "S1RdnirkUtsi"
      },
      "execution_count": 4,
      "outputs": []
    },
    {
      "cell_type": "code",
      "source": [],
      "metadata": {
        "id": "FIAng9FUXwbM"
      },
      "execution_count": 4,
      "outputs": []
    },
    {
      "cell_type": "markdown",
      "source": [
        "## Data analysis"
      ],
      "metadata": {
        "id": "tKGlDiOKVZwv"
      }
    },
    {
      "cell_type": "code",
      "source": [
        "train_positive_data = \"/content/videos/training/positive\"\n",
        "train_negative_data = \"/content/videos/training/negative\"\n",
        "\n",
        "test_positive_data = \"/content/videos/testing/positive\"\n",
        "test_positive_data = \"/content/videos/testing/negative\""
      ],
      "metadata": {
        "id": "0FnhO99-WDDW"
      },
      "execution_count": 5,
      "outputs": []
    },
    {
      "cell_type": "markdown",
      "source": [
        "### How much data do we have ?"
      ],
      "metadata": {
        "id": "S_qJXBwEVdS8"
      }
    },
    {
      "cell_type": "code",
      "source": [
        "print(f\"Total number of Positive training data: {len(os.listdir(train_positive_data))}\")\n",
        "print(f\"Total number of Negative training data: {len(os.listdir(train_negative_data))}\")\n",
        "print(f\"Total number of Positve testing data: {len(os.listdir(test_positive_data))}\")\n",
        "print(f\"Total number of Negative testing data: {len(os.listdir(test_positive_data))}\")"
      ],
      "metadata": {
        "colab": {
          "base_uri": "https://localhost:8080/"
        },
        "id": "FliVQek1VcQ-",
        "outputId": "c9491ca5-72ed-49f9-8ec4-b60bd651823b"
      },
      "execution_count": 6,
      "outputs": [
        {
          "output_type": "stream",
          "name": "stdout",
          "text": [
            "Total number of Positive training data: 455\n",
            "Total number of Negative training data: 829\n",
            "Total number of Positve testing data: 301\n",
            "Total number of Negative testing data: 301\n"
          ]
        }
      ]
    },
    {
      "cell_type": "markdown",
      "source": [
        "What are the properties of the videos ?"
      ],
      "metadata": {
        "id": "CxhhWIDzhx-o"
      }
    },
    {
      "cell_type": "code",
      "source": [
        "import cv2\n",
        "def get_video_properties(video_path):\n",
        "\tvideo = cv2.VideoCapture(video_path)\n",
        "\tlength = int(video.get(cv2.CAP_PROP_FRAME_COUNT))\n",
        "\twidth  = int(video.get(cv2.CAP_PROP_FRAME_WIDTH))\n",
        "\theight = int(video.get(cv2.CAP_PROP_FRAME_HEIGHT))\n",
        "\tfps    = video.get(cv2.CAP_PROP_FPS)\n",
        "\treturn length, width, height, fps"
      ],
      "metadata": {
        "id": "CvU93nuIX3A0"
      },
      "execution_count": 7,
      "outputs": []
    },
    {
      "cell_type": "code",
      "source": [
        "seq_len, vid_width, vid_height, fps = get_video_properties(\"/content/videos/training/positive/000010.mp4\")"
      ],
      "metadata": {
        "id": "48wBJ349h3p2"
      },
      "execution_count": 8,
      "outputs": []
    },
    {
      "cell_type": "code",
      "source": [
        "print(f\"Sequence length of videos: {seq_len}\")\n",
        "print(f\"Video height: {vid_height}\")\n",
        "print(f\"Video width: {vid_width}\")\n",
        "print(f\"FPS of video:  {fps}\")"
      ],
      "metadata": {
        "id": "xO4WtQ3_h7Fj",
        "colab": {
          "base_uri": "https://localhost:8080/"
        },
        "outputId": "3f853963-5bd1-460b-8c88-fd7d596e264d"
      },
      "execution_count": 9,
      "outputs": [
        {
          "output_type": "stream",
          "name": "stdout",
          "text": [
            "Sequence length of videos: 100\n",
            "Video height: 720\n",
            "Video width: 1280\n",
            "FPS of video:  25.0\n"
          ]
        }
      ]
    },
    {
      "cell_type": "markdown",
      "source": [
        "## Data preparation\n",
        "Each video contains 100 frames at 25fps and accidents only occur in the last 50 frames(approximately around the 75th frame). So we'll pass the model the first 50 frames as input and it's goal will be to use that to predict whether or not they'll be a car accident in the remaining 50 frames.  "
      ],
      "metadata": {
        "id": "lsDECg_FX5ei"
      }
    },
    {
      "cell_type": "code",
      "source": [
        "import numpy as np\n",
        "import concurrent.futures"
      ],
      "metadata": {
        "id": "mz5jJOr4tzC1"
      },
      "execution_count": 10,
      "outputs": []
    },
    {
      "cell_type": "code",
      "source": [
        "def frames_extraction(video_path):\n",
        "    frames_list = []\n",
        "    vidObj = cv2.VideoCapture(video_path)\n",
        "    # Used as counter variable \n",
        "    count = 1\n",
        "    while count <= seq_len:   \n",
        "        success, image = vidObj.read() \n",
        "        if success:\n",
        "            #image = cv2.cvtColor(image, cv2.COLOR_BGR2RGB)\n",
        "            image = cv2.cvtColor(image, cv2.COLOR_BGR2GRAY)\n",
        "            image = cv2.resize(image, (vid_height, vid_width))\n",
        "            frames_list.append(image)\n",
        "            count += 1\n",
        "        else:\n",
        "            print(\"Defected frame\")\n",
        "            break\n",
        "    #return only the first 50 frames, so model makes predict for the next 50 frames\n",
        "    return frames_list"
      ],
      "metadata": {
        "id": "M4FCODqOX8AA"
      },
      "execution_count": 11,
      "outputs": []
    },
    {
      "cell_type": "code",
      "source": [
        "def create_data(input_dir, seq_len, classes):\n",
        "    X = []\n",
        "    Y = []\n",
        "     \n",
        "    classes_list = os.listdir(input_dir)\n",
        "     \n",
        "    for c in classes_list:\n",
        "        print(c)\n",
        "        files_list = os.listdir(os.path.join(input_dir, c))\n",
        "        for f in files_list:\n",
        "          frames = frames_extraction(os.path.join(os.path.join(input_dir, c), f))\n",
        "          if len(frames) == seq_len:\n",
        "                X.append(frames)\n",
        "             \n",
        "                y = [0]*len(classes)\n",
        "                y[classes.index(c)] = 1\n",
        "                Y.append(y)\n",
        "     \n",
        "    X = np.asarray(X)\n",
        "    Y = np.asarray(Y)\n",
        "    return X, Y"
      ],
      "metadata": {
        "id": "oHrEylAwhJlV"
      },
      "execution_count": 12,
      "outputs": []
    },
    {
      "cell_type": "code",
      "source": [
        "vid_height , vid_width = 30, 30\n",
        "seq_len = 50\n",
        "classes = [\"negative\", \"positive\"]\n",
        "\n",
        "#Need to thread this or use multiprocessing to make this faster\n",
        "import time\n",
        "start = time.perf_counter()\n",
        "X_train, y_train = create_data(train_dir, seq_len, classes) \n",
        "X_test, y_test =  create_data(test_dir, seq_len, classes)\n",
        "finish = time.perf_counter()\n",
        "print(f\"Finished in {round(finish-start,2)} seconds.\")"
      ],
      "metadata": {
        "id": "28a9MmCEhJVj",
        "colab": {
          "base_uri": "https://localhost:8080/"
        },
        "outputId": "934e92d2-52dd-40f5-8859-f742513243ec"
      },
      "execution_count": 13,
      "outputs": [
        {
          "output_type": "stream",
          "name": "stdout",
          "text": [
            "positive\n",
            "negative\n",
            "positive\n",
            "negative\n",
            "Finished in 537.11 seconds.\n"
          ]
        }
      ]
    },
    {
      "cell_type": "code",
      "source": [
        "print(X_train.shape, y_train.shape)"
      ],
      "metadata": {
        "id": "o5whtl7shJPC",
        "colab": {
          "base_uri": "https://localhost:8080/"
        },
        "outputId": "2d8b89d4-d1fc-466c-98c5-019ec9f76d1b"
      },
      "execution_count": 38,
      "outputs": [
        {
          "output_type": "stream",
          "name": "stdout",
          "text": [
            "(1284, 50, 30, 30) (1284, 2)\n"
          ]
        }
      ]
    },
    {
      "cell_type": "markdown",
      "source": [
        "## Build model"
      ],
      "metadata": {
        "id": "5qx_WUSWhMBO"
      }
    },
    {
      "cell_type": "code",
      "source": [
        "import keras\n",
        "from keras.layers.convolutional import Conv2D\n",
        "from keras.layers import BatchNormalization, MaxPool2D, GlobalMaxPool2D"
      ],
      "metadata": {
        "id": "pKRmC0_Gz6xd"
      },
      "execution_count": 14,
      "outputs": []
    },
    {
      "cell_type": "code",
      "source": [
        "def build_convnet(shape=(vid_height, vid_width, 1)):\n",
        "    momentum = .9\n",
        "    model = keras.Sequential()\n",
        "    model.add(Conv2D(32, (3,3), input_shape=shape,\n",
        "        padding='same', activation='relu'))\n",
        "    model.add(Conv2D(32, (3,3), padding='same', activation='relu'))\n",
        "    model.add(BatchNormalization(momentum=momentum))\n",
        "    \n",
        "    model.add(MaxPool2D())\n",
        "    model.add(MaxPool2D())\n",
        "\n",
        "    \n",
        "    model.add(Conv2D(32, (3,3), padding='same', activation='relu'))\n",
        "    model.add(Conv2D(32, (3,3), padding='same', activation='relu'))\n",
        "    model.add(BatchNormalization(momentum=momentum))\n",
        "    \n",
        "    model.add(MaxPool2D())\n",
        "    model.add(MaxPool2D())\n",
        "     \n",
        "    model.add(Conv2D(32, (3,3), padding='same', activation='relu'))\n",
        "    model.add(Conv2D(32, (3,3), padding='same', activation='relu'))\n",
        "    model.add(BatchNormalization(momentum=momentum))\n",
        "    \n",
        "    # flatten...\n",
        "    model.add(GlobalMaxPool2D())\n",
        "    return model\n",
        "\n",
        "from keras.layers import TimeDistributed, GRU, Dense, Dropout\n",
        "def action_model(shape=(seq_len, vid_height, vid_width, 3), nbout=classes):\n",
        "    # Create our convnet with (vid_height, vid_width, 3) input shape\n",
        "    convnet = build_convnet(shape[1:])\n",
        "    \n",
        "    # then create our final model\n",
        "    model = keras.Sequential()\n",
        "    # add the convnet with (seq_len, 224, 224, 3) shape\n",
        "    model.add(TimeDistributed(convnet, input_shape=shape))\n",
        "    # here, you can also use GRU or LSTM\n",
        "    model.add(GRU(64))\n",
        "    # and finally, we make a decision network\n",
        "    model.add(Dense(512, activation='relu'))\n",
        "    model.add(Dropout(.5))\n",
        "    model.add(Dense(512, activation='relu'))\n",
        "    model.add(Dropout(.5))\n",
        "    model.add(Dense(128, activation='relu'))\n",
        "    model.add(Dropout(.5))\n",
        "    model.add(Dense(64, activation='relu'))\n",
        "    model.add(Dense(nbout, activation='softmax'))\n",
        "    return model\n",
        "\n",
        "SIZE = (vid_height,vid_width,)\n",
        "CHANNELS = 1\n",
        "INSHAPE=(seq_len,) + SIZE + (CHANNELS,) # (50, 224, 224, 1)\n",
        "model = action_model(INSHAPE, len(classes))\n",
        "optimizer = keras.optimizers.Adam(0.001)\n",
        "\n",
        "model.summary()\n",
        "\n",
        "model.compile(\n",
        "    optimizer,\n",
        "    'categorical_crossentropy',\n",
        "    metrics=['acc']\n",
        ")"
      ],
      "metadata": {
        "id": "RfxdUKmKhPLJ",
        "colab": {
          "base_uri": "https://localhost:8080/"
        },
        "outputId": "7a3efffc-31d5-4f09-d17e-1b0ffec2b798"
      },
      "execution_count": 15,
      "outputs": [
        {
          "output_type": "stream",
          "name": "stdout",
          "text": [
            "Model: \"sequential_1\"\n",
            "_________________________________________________________________\n",
            " Layer (type)                Output Shape              Param #   \n",
            "=================================================================\n",
            " time_distributed (TimeDistr  (None, 50, 32)           46944     \n",
            " ibuted)                                                         \n",
            "                                                                 \n",
            " gru (GRU)                   (None, 64)                18816     \n",
            "                                                                 \n",
            " dense (Dense)               (None, 512)               33280     \n",
            "                                                                 \n",
            " dropout (Dropout)           (None, 512)               0         \n",
            "                                                                 \n",
            " dense_1 (Dense)             (None, 512)               262656    \n",
            "                                                                 \n",
            " dropout_1 (Dropout)         (None, 512)               0         \n",
            "                                                                 \n",
            " dense_2 (Dense)             (None, 128)               65664     \n",
            "                                                                 \n",
            " dropout_2 (Dropout)         (None, 128)               0         \n",
            "                                                                 \n",
            " dense_3 (Dense)             (None, 64)                8256      \n",
            "                                                                 \n",
            " dense_4 (Dense)             (None, 2)                 130       \n",
            "                                                                 \n",
            "=================================================================\n",
            "Total params: 435,746\n",
            "Trainable params: 435,554\n",
            "Non-trainable params: 192\n",
            "_________________________________________________________________\n"
          ]
        }
      ]
    },
    {
      "cell_type": "code",
      "source": [],
      "metadata": {
        "id": "2IsIlgeRhQCe"
      },
      "execution_count": 15,
      "outputs": []
    },
    {
      "cell_type": "markdown",
      "source": [
        "## Train model"
      ],
      "metadata": {
        "id": "G2DaBlpfhRK2"
      }
    },
    {
      "cell_type": "code",
      "source": [
        "# ##Early stop to avoid over-fitting \n",
        "# earlystop = EarlyStopping(patience=7)\n",
        "# callbacks = [earlystop]"
      ],
      "metadata": {
        "id": "WxQZHUwF6DcG"
      },
      "execution_count": 16,
      "outputs": []
    },
    {
      "cell_type": "code",
      "source": [
        "import time \n",
        "#####start the training \n",
        "\n",
        "start = time.perf_counter()\n",
        "history = model.fit(\n",
        "      x = X_train, \n",
        "      y = y_train, \n",
        "      epochs=100,\n",
        "      steps_per_epoch = 100 ,\n",
        "      batch_size = 8, \n",
        "      shuffle=True, \n",
        "      validation_split=0.1)\n",
        "finish = time.perf_counter()\n",
        "print(f\"Finished in {round(finish-start,2)} seconds.\")"
      ],
      "metadata": {
        "id": "WleEA195hT1Z",
        "colab": {
          "base_uri": "https://localhost:8080/"
        },
        "outputId": "76b98f09-229c-4de7-ae7f-f3eb9da410cf"
      },
      "execution_count": 22,
      "outputs": [
        {
          "output_type": "stream",
          "name": "stdout",
          "text": [
            "Epoch 1/100\n",
            "100/100 [==============================] - 2s 24ms/step - loss: 0.6673 - acc: 0.6125 - val_loss: 0.5107 - val_acc: 1.0000\n",
            "Epoch 2/100\n",
            "100/100 [==============================] - 2s 23ms/step - loss: 0.6771 - acc: 0.5975 - val_loss: 0.5474 - val_acc: 1.0000\n",
            "Epoch 3/100\n",
            "100/100 [==============================] - 2s 24ms/step - loss: 0.6713 - acc: 0.6113 - val_loss: 0.5174 - val_acc: 1.0000\n",
            "Epoch 4/100\n",
            "100/100 [==============================] - 3s 25ms/step - loss: 0.6785 - acc: 0.5888 - val_loss: 0.5328 - val_acc: 1.0000\n",
            "Epoch 5/100\n",
            "100/100 [==============================] - 2s 23ms/step - loss: 0.6628 - acc: 0.6138 - val_loss: 0.4410 - val_acc: 1.0000\n",
            "Epoch 6/100\n",
            "100/100 [==============================] - 2s 23ms/step - loss: 0.6751 - acc: 0.5962 - val_loss: 0.5256 - val_acc: 1.0000\n",
            "Epoch 7/100\n",
            "100/100 [==============================] - 2s 24ms/step - loss: 0.6699 - acc: 0.6037 - val_loss: 0.5005 - val_acc: 1.0000\n",
            "Epoch 8/100\n",
            "100/100 [==============================] - 2s 24ms/step - loss: 0.6569 - acc: 0.6327 - val_loss: 0.4206 - val_acc: 1.0000\n",
            "Epoch 9/100\n",
            "100/100 [==============================] - 3s 25ms/step - loss: 0.6809 - acc: 0.5786 - val_loss: 0.4806 - val_acc: 1.0000\n",
            "Epoch 10/100\n",
            "100/100 [==============================] - 2s 24ms/step - loss: 0.6693 - acc: 0.6175 - val_loss: 0.4918 - val_acc: 1.0000\n",
            "Epoch 11/100\n",
            "100/100 [==============================] - 2s 24ms/step - loss: 0.6641 - acc: 0.6176 - val_loss: 0.4978 - val_acc: 0.9922\n",
            "Epoch 12/100\n",
            "100/100 [==============================] - 2s 23ms/step - loss: 0.6626 - acc: 0.5912 - val_loss: 0.4696 - val_acc: 0.9767\n",
            "Epoch 13/100\n",
            "100/100 [==============================] - 2s 23ms/step - loss: 0.6720 - acc: 0.6037 - val_loss: 0.4043 - val_acc: 1.0000\n",
            "Epoch 14/100\n",
            "100/100 [==============================] - 2s 24ms/step - loss: 0.6716 - acc: 0.6113 - val_loss: 0.4995 - val_acc: 1.0000\n",
            "Epoch 15/100\n",
            "100/100 [==============================] - 3s 26ms/step - loss: 0.6761 - acc: 0.5912 - val_loss: 0.5308 - val_acc: 0.9457\n",
            "Epoch 16/100\n",
            "100/100 [==============================] - 2s 24ms/step - loss: 0.6704 - acc: 0.6126 - val_loss: 0.5040 - val_acc: 1.0000\n",
            "Epoch 17/100\n",
            "100/100 [==============================] - 2s 23ms/step - loss: 0.6682 - acc: 0.5962 - val_loss: 0.4647 - val_acc: 1.0000\n",
            "Epoch 18/100\n",
            "100/100 [==============================] - 2s 23ms/step - loss: 0.6732 - acc: 0.6075 - val_loss: 0.5114 - val_acc: 1.0000\n",
            "Epoch 19/100\n",
            "100/100 [==============================] - 2s 23ms/step - loss: 0.6615 - acc: 0.6164 - val_loss: 0.5344 - val_acc: 1.0000\n",
            "Epoch 20/100\n",
            "100/100 [==============================] - 2s 25ms/step - loss: 0.6718 - acc: 0.5925 - val_loss: 0.4979 - val_acc: 1.0000\n",
            "Epoch 21/100\n",
            "100/100 [==============================] - 3s 25ms/step - loss: 0.6757 - acc: 0.5975 - val_loss: 0.5311 - val_acc: 1.0000\n",
            "Epoch 22/100\n",
            "100/100 [==============================] - 2s 23ms/step - loss: 0.6528 - acc: 0.6314 - val_loss: 0.4393 - val_acc: 1.0000\n",
            "Epoch 23/100\n",
            "100/100 [==============================] - 2s 23ms/step - loss: 0.6743 - acc: 0.5925 - val_loss: 0.5048 - val_acc: 1.0000\n",
            "Epoch 24/100\n",
            "100/100 [==============================] - 2s 23ms/step - loss: 0.6652 - acc: 0.5962 - val_loss: 0.5280 - val_acc: 0.9767\n",
            "Epoch 25/100\n",
            "100/100 [==============================] - 2s 23ms/step - loss: 0.6610 - acc: 0.6214 - val_loss: 0.5241 - val_acc: 1.0000\n",
            "Epoch 26/100\n",
            "100/100 [==============================] - 3s 26ms/step - loss: 0.6556 - acc: 0.6037 - val_loss: 0.6134 - val_acc: 0.7209\n",
            "Epoch 27/100\n",
            "100/100 [==============================] - 2s 24ms/step - loss: 0.6557 - acc: 0.6138 - val_loss: 0.4931 - val_acc: 1.0000\n",
            "Epoch 28/100\n",
            "100/100 [==============================] - 2s 23ms/step - loss: 0.6724 - acc: 0.5874 - val_loss: 0.5152 - val_acc: 1.0000\n",
            "Epoch 29/100\n",
            "100/100 [==============================] - 2s 24ms/step - loss: 0.6656 - acc: 0.6138 - val_loss: 0.5119 - val_acc: 1.0000\n",
            "Epoch 30/100\n",
            "100/100 [==============================] - 3s 26ms/step - loss: 0.6676 - acc: 0.6075 - val_loss: 0.5257 - val_acc: 1.0000\n",
            "Epoch 31/100\n",
            "100/100 [==============================] - 2s 24ms/step - loss: 0.6753 - acc: 0.6025 - val_loss: 0.5243 - val_acc: 1.0000\n",
            "Epoch 32/100\n",
            "100/100 [==============================] - 3s 25ms/step - loss: 0.6676 - acc: 0.6101 - val_loss: 0.5469 - val_acc: 1.0000\n",
            "Epoch 33/100\n",
            "100/100 [==============================] - 2s 23ms/step - loss: 0.6646 - acc: 0.5863 - val_loss: 0.5941 - val_acc: 0.7519\n",
            "Epoch 34/100\n",
            "100/100 [==============================] - 3s 29ms/step - loss: 0.6553 - acc: 0.6314 - val_loss: 0.4961 - val_acc: 0.9147\n",
            "Epoch 35/100\n",
            "100/100 [==============================] - 3s 28ms/step - loss: 0.6573 - acc: 0.6038 - val_loss: 0.4741 - val_acc: 0.9070\n",
            "Epoch 36/100\n",
            "100/100 [==============================] - 2s 24ms/step - loss: 0.6593 - acc: 0.6050 - val_loss: 0.4937 - val_acc: 0.9457\n",
            "Epoch 37/100\n",
            "100/100 [==============================] - 3s 26ms/step - loss: 0.6597 - acc: 0.5774 - val_loss: 0.4932 - val_acc: 1.0000\n",
            "Epoch 38/100\n",
            "100/100 [==============================] - 2s 24ms/step - loss: 0.6452 - acc: 0.6352 - val_loss: 0.5068 - val_acc: 1.0000\n",
            "Epoch 39/100\n",
            "100/100 [==============================] - 2s 23ms/step - loss: 0.6589 - acc: 0.5938 - val_loss: 0.5216 - val_acc: 0.8992\n",
            "Epoch 40/100\n",
            "100/100 [==============================] - 2s 23ms/step - loss: 0.6452 - acc: 0.6403 - val_loss: 0.4573 - val_acc: 0.9922\n",
            "Epoch 41/100\n",
            "100/100 [==============================] - 2s 23ms/step - loss: 0.6397 - acc: 0.6239 - val_loss: 0.5000 - val_acc: 0.9922\n",
            "Epoch 42/100\n",
            "100/100 [==============================] - 2s 25ms/step - loss: 0.6612 - acc: 0.5925 - val_loss: 0.4519 - val_acc: 0.9612\n",
            "Epoch 43/100\n",
            "100/100 [==============================] - 3s 25ms/step - loss: 0.6429 - acc: 0.6239 - val_loss: 0.4747 - val_acc: 0.8992\n",
            "Epoch 44/100\n",
            "100/100 [==============================] - 2s 24ms/step - loss: 0.6496 - acc: 0.6113 - val_loss: 0.5399 - val_acc: 0.9535\n",
            "Epoch 45/100\n",
            "100/100 [==============================] - 2s 24ms/step - loss: 0.6396 - acc: 0.6365 - val_loss: 0.4737 - val_acc: 0.9690\n",
            "Epoch 46/100\n",
            "100/100 [==============================] - 2s 23ms/step - loss: 0.6315 - acc: 0.6375 - val_loss: 0.5158 - val_acc: 1.0000\n",
            "Epoch 47/100\n",
            "100/100 [==============================] - 2s 23ms/step - loss: 0.6547 - acc: 0.5962 - val_loss: 0.5546 - val_acc: 0.9845\n",
            "Epoch 48/100\n",
            "100/100 [==============================] - 2s 25ms/step - loss: 0.6029 - acc: 0.6503 - val_loss: 0.5503 - val_acc: 0.6822\n",
            "Epoch 49/100\n",
            "100/100 [==============================] - 2s 25ms/step - loss: 0.6254 - acc: 0.6300 - val_loss: 0.5231 - val_acc: 0.8372\n",
            "Epoch 50/100\n",
            "100/100 [==============================] - 2s 24ms/step - loss: 0.6169 - acc: 0.6503 - val_loss: 0.5710 - val_acc: 0.7287\n",
            "Epoch 51/100\n",
            "100/100 [==============================] - 2s 23ms/step - loss: 0.6112 - acc: 0.6528 - val_loss: 0.4648 - val_acc: 0.7519\n",
            "Epoch 52/100\n",
            "100/100 [==============================] - 2s 23ms/step - loss: 0.6330 - acc: 0.6275 - val_loss: 0.4923 - val_acc: 0.9922\n",
            "Epoch 53/100\n",
            "100/100 [==============================] - 2s 23ms/step - loss: 0.6134 - acc: 0.6352 - val_loss: 0.4576 - val_acc: 0.8760\n",
            "Epoch 54/100\n",
            "100/100 [==============================] - 3s 26ms/step - loss: 0.6009 - acc: 0.6478 - val_loss: 0.4948 - val_acc: 0.8605\n",
            "Epoch 55/100\n",
            "100/100 [==============================] - 2s 24ms/step - loss: 0.6285 - acc: 0.6275 - val_loss: 0.5553 - val_acc: 0.8915\n",
            "Epoch 56/100\n",
            "100/100 [==============================] - 2s 23ms/step - loss: 0.6216 - acc: 0.6629 - val_loss: 0.5024 - val_acc: 0.9612\n",
            "Epoch 57/100\n",
            "100/100 [==============================] - 2s 23ms/step - loss: 0.5846 - acc: 0.6843 - val_loss: 0.4963 - val_acc: 0.7364\n",
            "Epoch 58/100\n",
            "100/100 [==============================] - 2s 23ms/step - loss: 0.5955 - acc: 0.6717 - val_loss: 0.6254 - val_acc: 0.5814\n",
            "Epoch 59/100\n",
            "100/100 [==============================] - 2s 24ms/step - loss: 0.5770 - acc: 0.6988 - val_loss: 0.4587 - val_acc: 0.7907\n",
            "Epoch 60/100\n",
            "100/100 [==============================] - 3s 26ms/step - loss: 0.5603 - acc: 0.7119 - val_loss: 0.4720 - val_acc: 0.8062\n",
            "Epoch 61/100\n",
            "100/100 [==============================] - 2s 24ms/step - loss: 0.5471 - acc: 0.7069 - val_loss: 0.4672 - val_acc: 0.8295\n",
            "Epoch 62/100\n",
            "100/100 [==============================] - 2s 24ms/step - loss: 0.5372 - acc: 0.7375 - val_loss: 0.6953 - val_acc: 0.6899\n",
            "Epoch 63/100\n",
            "100/100 [==============================] - 2s 23ms/step - loss: 0.5397 - acc: 0.7333 - val_loss: 0.6457 - val_acc: 0.6589\n",
            "Epoch 64/100\n",
            "100/100 [==============================] - 2s 24ms/step - loss: 0.5744 - acc: 0.6805 - val_loss: 0.5258 - val_acc: 0.7442\n",
            "Epoch 65/100\n",
            "100/100 [==============================] - 3s 28ms/step - loss: 0.5354 - acc: 0.7387 - val_loss: 0.5863 - val_acc: 0.6899\n",
            "Epoch 66/100\n",
            "100/100 [==============================] - 3s 26ms/step - loss: 0.4936 - acc: 0.7673 - val_loss: 0.5212 - val_acc: 0.8062\n",
            "Epoch 67/100\n",
            "100/100 [==============================] - 2s 23ms/step - loss: 0.4573 - acc: 0.7723 - val_loss: 0.6450 - val_acc: 0.6822\n",
            "Epoch 68/100\n",
            "100/100 [==============================] - 2s 24ms/step - loss: 0.5165 - acc: 0.7262 - val_loss: 0.5587 - val_acc: 0.7907\n",
            "Epoch 69/100\n",
            "100/100 [==============================] - 3s 25ms/step - loss: 0.4453 - acc: 0.8050 - val_loss: 0.7243 - val_acc: 0.7442\n",
            "Epoch 70/100\n",
            "100/100 [==============================] - 2s 24ms/step - loss: 0.4396 - acc: 0.8000 - val_loss: 0.5735 - val_acc: 0.7829\n",
            "Epoch 71/100\n",
            "100/100 [==============================] - 3s 26ms/step - loss: 0.4443 - acc: 0.7950 - val_loss: 0.5854 - val_acc: 0.7442\n",
            "Epoch 72/100\n",
            "100/100 [==============================] - 2s 24ms/step - loss: 0.4599 - acc: 0.7811 - val_loss: 0.5905 - val_acc: 0.6977\n",
            "Epoch 73/100\n",
            "100/100 [==============================] - 2s 23ms/step - loss: 0.4131 - acc: 0.8126 - val_loss: 0.8536 - val_acc: 0.6047\n",
            "Epoch 74/100\n",
            "100/100 [==============================] - 2s 24ms/step - loss: 0.3890 - acc: 0.8314 - val_loss: 0.8474 - val_acc: 0.7054\n",
            "Epoch 75/100\n",
            "100/100 [==============================] - 2s 24ms/step - loss: 0.3391 - acc: 0.8475 - val_loss: 0.8047 - val_acc: 0.6822\n",
            "Epoch 76/100\n",
            "100/100 [==============================] - 2s 24ms/step - loss: 0.4043 - acc: 0.8126 - val_loss: 1.2785 - val_acc: 0.5969\n",
            "Epoch 77/100\n",
            "100/100 [==============================] - 3s 25ms/step - loss: 0.3674 - acc: 0.8403 - val_loss: 0.7183 - val_acc: 0.7442\n",
            "Epoch 78/100\n",
            "100/100 [==============================] - 2s 23ms/step - loss: 0.3058 - acc: 0.8687 - val_loss: 0.8279 - val_acc: 0.6899\n",
            "Epoch 79/100\n",
            "100/100 [==============================] - 2s 23ms/step - loss: 0.3020 - acc: 0.8667 - val_loss: 0.6481 - val_acc: 0.7674\n",
            "Epoch 80/100\n",
            "100/100 [==============================] - 2s 23ms/step - loss: 0.2838 - acc: 0.8755 - val_loss: 1.0369 - val_acc: 0.6744\n",
            "Epoch 81/100\n",
            "100/100 [==============================] - 2s 23ms/step - loss: 0.2415 - acc: 0.9087 - val_loss: 0.9313 - val_acc: 0.6977\n",
            "Epoch 82/100\n",
            "100/100 [==============================] - 3s 25ms/step - loss: 0.2614 - acc: 0.9031 - val_loss: 1.0962 - val_acc: 0.6279\n",
            "Epoch 83/100\n",
            "100/100 [==============================] - 3s 25ms/step - loss: 0.2190 - acc: 0.9094 - val_loss: 1.1937 - val_acc: 0.7132\n",
            "Epoch 84/100\n",
            "100/100 [==============================] - 2s 23ms/step - loss: 0.2465 - acc: 0.8988 - val_loss: 0.7942 - val_acc: 0.7132\n",
            "Epoch 85/100\n",
            "100/100 [==============================] - 2s 23ms/step - loss: 0.2403 - acc: 0.9170 - val_loss: 1.0123 - val_acc: 0.7519\n",
            "Epoch 86/100\n",
            "100/100 [==============================] - 2s 23ms/step - loss: 0.2106 - acc: 0.9195 - val_loss: 1.5437 - val_acc: 0.6744\n",
            "Epoch 87/100\n",
            "100/100 [==============================] - 2s 24ms/step - loss: 0.2390 - acc: 0.9019 - val_loss: 1.1536 - val_acc: 0.7054\n",
            "Epoch 88/100\n",
            "100/100 [==============================] - 3s 26ms/step - loss: 0.2215 - acc: 0.9225 - val_loss: 0.9356 - val_acc: 0.6124\n",
            "Epoch 89/100\n",
            "100/100 [==============================] - 2s 24ms/step - loss: 0.2275 - acc: 0.9182 - val_loss: 0.8880 - val_acc: 0.7054\n",
            "Epoch 90/100\n",
            "100/100 [==============================] - 2s 24ms/step - loss: 0.2584 - acc: 0.9006 - val_loss: 1.3896 - val_acc: 0.5504\n",
            "Epoch 91/100\n",
            "100/100 [==============================] - 2s 23ms/step - loss: 0.1592 - acc: 0.9475 - val_loss: 1.6054 - val_acc: 0.5891\n",
            "Epoch 92/100\n",
            "100/100 [==============================] - 2s 24ms/step - loss: 0.2047 - acc: 0.9245 - val_loss: 1.6152 - val_acc: 0.6202\n",
            "Epoch 93/100\n",
            "100/100 [==============================] - 2s 25ms/step - loss: 0.1564 - acc: 0.9522 - val_loss: 2.3010 - val_acc: 0.5736\n",
            "Epoch 94/100\n",
            "100/100 [==============================] - 3s 26ms/step - loss: 0.1128 - acc: 0.9563 - val_loss: 1.4142 - val_acc: 0.6977\n",
            "Epoch 95/100\n",
            "100/100 [==============================] - 2s 24ms/step - loss: 0.1170 - acc: 0.9421 - val_loss: 2.1289 - val_acc: 0.5659\n",
            "Epoch 96/100\n",
            "100/100 [==============================] - 2s 24ms/step - loss: 0.2262 - acc: 0.9069 - val_loss: 1.4387 - val_acc: 0.6822\n",
            "Epoch 97/100\n",
            "100/100 [==============================] - 2s 23ms/step - loss: 0.1842 - acc: 0.9350 - val_loss: 1.0269 - val_acc: 0.6589\n",
            "Epoch 98/100\n",
            "100/100 [==============================] - 2s 23ms/step - loss: 0.1313 - acc: 0.9535 - val_loss: 1.2764 - val_acc: 0.6589\n",
            "Epoch 99/100\n",
            "100/100 [==============================] - 3s 25ms/step - loss: 0.1257 - acc: 0.9560 - val_loss: 1.4095 - val_acc: 0.6357\n",
            "Epoch 100/100\n",
            "100/100 [==============================] - 2s 25ms/step - loss: 0.1794 - acc: 0.9300 - val_loss: 0.9094 - val_acc: 0.6512\n",
            "Finished in 241.76 seconds.\n"
          ]
        }
      ]
    },
    {
      "cell_type": "code",
      "source": [],
      "metadata": {
        "id": "k7v8ornHhU-z"
      },
      "execution_count": 17,
      "outputs": []
    },
    {
      "cell_type": "markdown",
      "source": [
        "## Test model"
      ],
      "metadata": {
        "id": "XZ_xcg08hWRi"
      }
    },
    {
      "cell_type": "code",
      "source": [
        "from sklearn.metrics import classification_report"
      ],
      "metadata": {
        "id": "zkHwoseA6UPQ"
      },
      "execution_count": 18,
      "outputs": []
    },
    {
      "cell_type": "code",
      "source": [
        "y_test.shape"
      ],
      "metadata": {
        "colab": {
          "base_uri": "https://localhost:8080/"
        },
        "id": "FFdRSATCBDQ1",
        "outputId": "c39afb5e-51a8-455c-aeab-11745a5046d6"
      },
      "execution_count": 39,
      "outputs": [
        {
          "output_type": "execute_result",
          "data": {
            "text/plain": [
              "(466, 2)"
            ]
          },
          "metadata": {},
          "execution_count": 39
        }
      ]
    },
    {
      "cell_type": "code",
      "source": [
        "y_pred = model.predict(X_test)\n",
        "#y_pred = np.argmax(y_pred, axis=1)\n",
        "print(y_pred.shape)\n",
        "#print(classification_report(y_test, y_pred))"
      ],
      "metadata": {
        "id": "ToEV_DwIhcQH",
        "colab": {
          "base_uri": "https://localhost:8080/"
        },
        "outputId": "b60c61e0-689c-48d5-d933-1641c24b6418"
      },
      "execution_count": 40,
      "outputs": [
        {
          "output_type": "stream",
          "name": "stdout",
          "text": [
            "15/15 [==============================] - 0s 17ms/step\n",
            "(466, 2)\n"
          ]
        }
      ]
    },
    {
      "cell_type": "code",
      "source": [
        "y_test2 = np.argmax(y_test, axis=1)\n",
        "y_pred2 = np.argmax(y_pred, axis=1)"
      ],
      "metadata": {
        "id": "YmjxN0TXEAvL"
      },
      "execution_count": 49,
      "outputs": []
    },
    {
      "cell_type": "code",
      "source": [
        "y_test2.shape"
      ],
      "metadata": {
        "id": "yT_q3JF7EHlD"
      },
      "execution_count": null,
      "outputs": []
    },
    {
      "cell_type": "code",
      "source": [
        "y_pred2.shape"
      ],
      "metadata": {
        "id": "sQwX2LR4EKCR"
      },
      "execution_count": null,
      "outputs": []
    },
    {
      "cell_type": "code",
      "source": [
        "print(classification_report(y_test2, y_pred2))"
      ],
      "metadata": {
        "colab": {
          "base_uri": "https://localhost:8080/"
        },
        "id": "XpjY5eV8EhDg",
        "outputId": "507066ee-0843-43d2-f571-45000a1015bd"
      },
      "execution_count": 54,
      "outputs": [
        {
          "output_type": "stream",
          "name": "stdout",
          "text": [
            "              precision    recall  f1-score   support\n",
            "\n",
            "           0       0.66      0.57      0.61       301\n",
            "           1       0.37      0.47      0.42       165\n",
            "\n",
            "    accuracy                           0.53       466\n",
            "   macro avg       0.52      0.52      0.51       466\n",
            "weighted avg       0.56      0.53      0.54       466\n",
            "\n"
          ]
        }
      ]
    },
    {
      "cell_type": "code",
      "source": [
        "from matplotlib import pyplot as plt\n",
        "###Evaluate accuracy and loss of model \n",
        "###Sets for each training epoch\n",
        "acc = history.history['acc']\n",
        "val_acc = history.history['val_acc']\n",
        "\n",
        "loss = history.history['loss']\n",
        "val_loss = history.history['val_loss']\n",
        "\n",
        "###Get number of epochs\n",
        "epochs = range(len(acc))\n",
        "\n",
        "###Plot training and validation accuracy per epoch\n",
        "plt.plot(epochs, acc)\n",
        "plt.plot(epochs, val_acc)\n",
        "plt.title('Training and validation accuracy')\n",
        "\n",
        "plt.figure()\n",
        "\n",
        "###Plot training and Validation loss per epoch\n",
        "plt.plot(epochs, loss)\n",
        "plt.plot(epochs, val_loss)\n",
        "plt.title('Training and validation loss')"
      ],
      "metadata": {
        "id": "Bbv8uIZGhc07",
        "colab": {
          "base_uri": "https://localhost:8080/",
          "height": 909
        },
        "outputId": "6bc99187-c932-4ac8-e58f-651bb8b428bc"
      },
      "execution_count": 55,
      "outputs": [
        {
          "output_type": "execute_result",
          "data": {
            "text/plain": [
              "Text(0.5, 1.0, 'Training and validation loss')"
            ]
          },
          "metadata": {},
          "execution_count": 55
        },
        {
          "output_type": "display_data",
          "data": {
            "text/plain": [
              "<Figure size 640x480 with 1 Axes>"
            ],
            "image/png": "[encoded data removed]"
          },
          "metadata": {}
        },
        {
          "output_type": "display_data",
          "data": {
            "text/plain": [
              "<Figure size 640x480 with 1 Axes>"
            ],
            "image/png": "[encoded data removed]"
          },
          "metadata": {}
        }
      ]
    },
    {
      "cell_type": "code",
      "source": [],
      "metadata": {
        "id": "RYF1bPOohcrQ"
      },
      "execution_count": 20,
      "outputs": []
    },
    {
      "cell_type": "markdown",
      "source": [
        "## Save model"
      ],
      "metadata": {
        "id": "iFIX-VjPheoK"
      }
    },
    {
      "cell_type": "code",
      "source": [
        "####save model\n",
        "\n",
        "# Calling `save('my_model')` creates a SavedModel folder `my_model`.\n",
        "model.save(\"my_model\")\n",
        "\n",
        "# Calling `save('my_model.h5')` creates a h5 file `my_model.h5`.\n",
        "model.save(\"my_h5_model.h5\")"
      ],
      "metadata": {
        "id": "vNjm7uzmheMq",
        "colab": {
          "base_uri": "https://localhost:8080/"
        },
        "outputId": "a70deab2-91ad-4fe6-f153-536b797c2c47"
      },
      "execution_count": 56,
      "outputs": [
        {
          "output_type": "stream",
          "name": "stderr",
          "text": [
            "WARNING:absl:Found untraced functions such as gru_cell_layer_call_fn, gru_cell_layer_call_and_return_conditional_losses, _jit_compiled_convolution_op, _jit_compiled_convolution_op, _jit_compiled_convolution_op while saving (showing 5 of 8). These functions will not be directly callable after loading.\n"
          ]
        }
      ]
    }
  ],
  "metadata": {
    "colab": {
      "provenance": [],
      "gpuType": "T4"
    },
    "kernelspec": {
      "display_name": "Python 3",
      "name": "python3"
    },
    "language_info": {
      "name": "python"
    },
    "accelerator": "GPU",
    "gpuClass": "standard"
  },
  "nbformat": 4,
  "nbformat_minor": 0
}